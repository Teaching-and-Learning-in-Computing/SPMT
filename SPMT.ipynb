{
  "cells": [
    {
      "cell_type": "markdown",
      "metadata": {
        "id": "6XXFFiuBiHn6"
      },
      "source": [
        "# SPMT\n",
        "## Import Libraries"
      ]
    },
    {
      "cell_type": "code",
      "execution_count": null,
      "metadata": {
        "id": "o6-NJ4KlnPQb"
      },
      "outputs": [],
      "source": [
        "import pandas as pd\n",
        "import numpy as np\n",
        "from IPython.display import display\n",
        "from scipy.spatial.distance import cdist\n",
        "from scipy.optimize import linear_sum_assignment"
      ]
    },
    {
      "cell_type": "markdown",
      "metadata": {
        "id": "XJdGMUWkiimY"
      },
      "source": [
        "## Student Intake Survey\n",
        "\n",
        "Update settings to print more dataframe rows and columns at a time."
      ]
    },
    {
      "cell_type": "code",
      "execution_count": null,
      "metadata": {
        "id": "2n8cdqTwguzJ"
      },
      "outputs": [],
      "source": [
        "pd.set_option('display.max_rows', None)\n",
        "pd.set_option('display.max_columns', None)"
      ]
    },
    {
      "cell_type": "markdown",
      "source": [
        "Read CSV and drop irrelevent columns. May or may not be necessary depending on data given."
      ],
      "metadata": {
        "id": "-pDo3Ww9N0zq"
      }
    },
    {
      "cell_type": "code",
      "execution_count": null,
      "metadata": {
        "id": "Wg512r4hgOYp"
      },
      "outputs": [],
      "source": [
        "# read csv from Qualtrics into pandas dataframe, skip first 2 rows (does not include header, just question info)\n",
        "df = pd.read_csv(\"qualtrics_file_name.csv\", skiprows=[1,2])\n",
        "\n",
        "# drop irrelevant columns\n",
        "df = df.drop(columns=[\"StartDate\", \"EndDate\", \"Status\", \"IPAddress\", \"Progress\", \"Duration (in seconds)\", \"Finished\", \\\n",
        "                \"RecordedDate\", \"ResponseId\", \"RecipientEmail\", \"ExternalReference\", \"LocationLatitude\", \\\n",
        "                \"LocationLongitude\", \"DistributionChannel\", \"UserLanguage\"])\n",
        "\n",
        "# replace blank cells (no answer) with 0s\n",
        "df = df.replace(np.nan, 0)"
      ]
    },
    {
      "cell_type": "markdown",
      "source": [
        "Display the first few responses to verify that our data cleaning has been successful."
      ],
      "metadata": {
        "id": "JBFdN8N-OP8x"
      }
    },
    {
      "cell_type": "code",
      "execution_count": null,
      "metadata": {
        "id": "UP0PgafroqlD"
      },
      "outputs": [],
      "source": [
        "df.head()"
      ]
    },
    {
      "cell_type": "markdown",
      "metadata": {
        "id": "yII7aJRf5IJR"
      },
      "source": [
        "## Student Intake Survey - Skills\n",
        "\n",
        "Average out students' experience in diverse skills into a single score per category."
      ]
    },
    {
      "cell_type": "code",
      "execution_count": null,
      "metadata": {
        "id": "If1Ox2wcnPQe"
      },
      "outputs": [],
      "source": [
        "df[\"Web_Score\"] = (df[\"F1_1\"] + df[\"WEB1_1\"] + df[\"WEB2_1\"] + df[\"WEB3_1\"] + df[\"WEB4_1\"] + df[\"WEB4_2\"] + df[\"WEB4_3\"] \\\n",
        "    + df[\"WEB4_4\"]) / 8\n",
        "\n",
        "df[\"Mobile_Score\"] = (df[\"F1_1\"] + df[\"MOB1_1\"] + df[\"MOB1_2\"] + df[\"MOB1_3\"] + df[\"MOB1_4\"]) / 5\n",
        "\n",
        "df[\"Backend_Score\"] = (df[\"CBI1_1\"] + df[\"B1_1\"] + df[\"B1_2\"] + df[\"B1_3\"] + df[\"B1_4\"] + df[\"B1_5\"] + df[\"B1_6\"] \\\n",
        "    + df[\"B2_1\"] + df[\"B2_2\"] + df[\"B2_3\"] + df[\"B2_4\"] + df[\"B2_5\"] + df[\"B3_1\"]) / 13\n",
        "\n",
        "df[\"DB_Score\"] = (df[\"CBI1_1\"] + df[\"DB1_1\"] + df[\"DB1_2\"] + df[\"DB1_3\"] + df[\"DB1_4\"] + df[\"DB1_5\"]) / 6\n",
        "\n",
        "df[\"Network_Score\"] = (df[\"CBI1_1\"] + df[\"NET1_1\"]) / 2\n",
        "\n",
        "df[\"ML_Score\"] = (df[\"CBI1_1\"] + df[\"ML1_1\"] + df[\"ML2_1\"] + df[\"ML3_1\"] + df[\"ML3_2\"] + df[\"ML3_3\"] + df[\"ML4_1\"] \\\n",
        "    + df[\"ML4_2\"] + df[\"ML4_3\"]) / 9\n",
        "\n",
        "df[\"Data_Science_Score\"] = (df[\"CBI1_1\"] + df[\"DS1_1\"] + df[\"DS1_2\"] + df[\"DS1_3\"] + df[\"DS1_4\"] + df[\"DS1_5\"] \\\n",
        "    + df[\"DS2_1\"] + df[\"DS2_2\"] + df[\"DS2_3\"] + df[\"DS3_1\"] + df[\"DS3_2\"] + df[\"DS3_3\"]) / 12\n",
        "\n"
      ]
    },
    {
      "cell_type": "markdown",
      "source": [
        "Check first few responses to ensure averaging is successful."
      ],
      "metadata": {
        "id": "j-XVp2YXOkii"
      }
    },
    {
      "cell_type": "code",
      "execution_count": null,
      "metadata": {
        "id": "6eBaY2SLtQCr"
      },
      "outputs": [],
      "source": [
        "df.head()"
      ]
    },
    {
      "cell_type": "markdown",
      "metadata": {
        "id": "87FldWQr5lrN"
      },
      "source": [
        "## Student Intake Survey - Interests\n",
        "\n",
        "Creating scores for students' interest levels in each category"
      ]
    },
    {
      "cell_type": "code",
      "execution_count": null,
      "metadata": {
        "id": "iaRet8vp5lVM"
      },
      "outputs": [],
      "source": [
        "df['web_interest'] = df.apply(lambda row: 1 if 'Web' in str(row['FSPEC']) or 'Not sure' in str(row['FSPEC']) else (0.5 if 'Maybe' in str(row['TPF']) else 0), axis=1)"
      ]
    },
    {
      "cell_type": "code",
      "execution_count": null,
      "metadata": {
        "id": "w2vLpl3v5lPf"
      },
      "outputs": [],
      "source": [
        "df['mobile_interest'] = df.apply(lambda row: 1 if 'Mobile' in str(row['FSPEC']) or 'Not sure' in str(row['FSPEC']) else (0.5 if 'Maybe' in str(row['TPF']) else 0), axis=1)"
      ]
    },
    {
      "cell_type": "code",
      "execution_count": null,
      "metadata": {
        "id": "FRiwgyJ25lJi"
      },
      "outputs": [],
      "source": [
        "df['backend_interest'] = df['TPB'].astype(str).apply(lambda x: 1 if 'Yes' in x else(0.5 if 'Maybe' in x else 0))"
      ]
    },
    {
      "cell_type": "code",
      "execution_count": null,
      "metadata": {
        "id": "r6RSHXNS5lDO"
      },
      "outputs": [],
      "source": [
        "df['db_interest'] = df.apply(lambda row: 1 if 'Databases' in str(row['ISPEC']) or 'Not sure' in str(row['ISPEC']) else (0.5 if 'Maybe' in str(row['TPI']) else 0), axis=1)"
      ]
    },
    {
      "cell_type": "code",
      "execution_count": null,
      "metadata": {
        "id": "-GSZaXSj5k9F"
      },
      "outputs": [],
      "source": [
        "df['network_interest'] = df.apply(lambda row: 1 if 'Network systems' in str(row['ISPEC']) or 'Not sure' in str(row['ISPEC']) else (0.5 if 'Maybe' in str(row['TPI']) else 0), axis=1)"
      ]
    },
    {
      "cell_type": "code",
      "execution_count": null,
      "metadata": {
        "id": "M0MDDypK5kt6"
      },
      "outputs": [],
      "source": [
        "df['ml_interest'] = df.apply(lambda row: 1 if 'ML/AI' in str(row['ISPEC']) or 'Not sure' in str(row['ISPEC']) else (0.5 if 'Maybe' in str(row['TPI']) else 0), axis=1)"
      ]
    },
    {
      "cell_type": "code",
      "execution_count": null,
      "metadata": {
        "id": "jNc-Lnsb5jvc"
      },
      "outputs": [],
      "source": [
        "df['ds_interest'] = df.apply(lambda row: 1 if 'Data science' in str(row['ISPEC']) or 'Not sure' in str(row['ISPEC']) else (0.5 if 'Maybe' in str(row['TPI']) else 0), axis=1)"
      ]
    },
    {
      "cell_type": "code",
      "execution_count": null,
      "metadata": {
        "id": "yNfg829lh28u"
      },
      "outputs": [],
      "source": [
        "df.head()"
      ]
    },
    {
      "cell_type": "markdown",
      "metadata": {
        "id": "QmL2LaROguzM"
      },
      "source": [
        "Drop duplicates based on student email and keep the last occurrence (students were allowed to submit multiple times)."
      ]
    },
    {
      "cell_type": "code",
      "execution_count": null,
      "metadata": {
        "id": "ktU-dxwjguzM"
      },
      "outputs": [],
      "source": [
        "df = df.drop_duplicates(subset=['Q50'],keep='last')\n",
        "df.shape"
      ]
    },
    {
      "cell_type": "markdown",
      "source": [
        "Create a dataframe of student interests."
      ],
      "metadata": {
        "id": "scikKwZaOx-w"
      }
    },
    {
      "cell_type": "code",
      "execution_count": null,
      "metadata": {
        "id": "3JgV40woguzM"
      },
      "outputs": [],
      "source": [
        "std_interests = df[['Q50', 'web_interest', 'mobile_interest', 'backend_interest', 'db_interest', 'network_interest', 'ml_interest', 'ds_interest']]\n",
        "std_interests.columns = ['netid', 'web', 'mobile', 'backend', 'db', 'network', 'ml', 'ds']\n",
        "std_interests.head()"
      ]
    },
    {
      "cell_type": "markdown",
      "source": [
        "Create a dataframe of student interests in each project plus their preference on being a team lead."
      ],
      "metadata": {
        "id": "2sjB5HTqO62R"
      }
    },
    {
      "cell_type": "code",
      "execution_count": null,
      "metadata": {
        "id": "67bd7uufguzN"
      },
      "outputs": [],
      "source": [
        "std_priorities = df[['Q50', 'priority1', 'priority2', 'priority3', 'priority4', 'priority5',\n",
        "                     'priority6', 'priority7', 'priority8', 'priority9', 'priority10',\n",
        "                     'priority11', 'priority12', 'priority13', 'priority14', 'team_lead_pref']]\n",
        "std_priorities.columns = ['netid', 'priority1', 'priority2', 'priority3', 'priority4', 'priority5',\n",
        "                     'priority6', 'priority7', 'priority8', 'priority9', 'priority10',\n",
        "                     'priority11', 'priority12', 'priority13', 'priority14', 'team_lead_pref']"
      ]
    },
    {
      "cell_type": "code",
      "execution_count": null,
      "metadata": {
        "id": "iIEKtTP-guzN"
      },
      "outputs": [],
      "source": [
        "priorities = {\n",
        "    '1 - Highest Priority': 1,\n",
        "    '2 - Average Priority': 2,\n",
        "    '3 - Lowest Priority': 3\n",
        "}"
      ]
    },
    {
      "cell_type": "code",
      "execution_count": null,
      "metadata": {
        "id": "Jaczk1ooguzN"
      },
      "outputs": [],
      "source": [
        "std_priorities = std_priorities.replace(priorities)\n",
        "std_priorities = std_priorities.fillna(3)"
      ]
    },
    {
      "cell_type": "code",
      "execution_count": null,
      "metadata": {
        "id": "Lq_Awo0VguzN"
      },
      "outputs": [],
      "source": [
        "std_priorities.head()"
      ]
    },
    {
      "cell_type": "markdown",
      "metadata": {
        "id": "Vus2mK-B-nCP"
      },
      "source": [
        "## Sponsor Projects"
      ]
    },
    {
      "cell_type": "code",
      "execution_count": null,
      "metadata": {
        "id": "RJk2CCGeCO0L"
      },
      "outputs": [],
      "source": [
        "# read csv of sponsor responses about project technical requirements; skip first 2 rows (does not include header, just question info)\n",
        "spon = pd.read_csv(\"sponsor_csv.csv\")\n",
        "\n",
        "# # drop irrelevant columns\n",
        "# spon = spon.drop(columns=[\"StartDate\", \"EndDate\", \"Status\", \"IPAddress\", \"Progress\", \"Duration (in seconds)\", \"Finished\", \\\n",
        "#                 \"RecordedDate\", \"ResponseId\", \"RecipientEmail\", \"ExternalReference\", \"LocationLatitude\", \\\n",
        "#                 \"LocationLongitude\", \"DistributionChannel\", \"UserLanguage\"])"
      ]
    },
    {
      "cell_type": "code",
      "execution_count": null,
      "metadata": {
        "id": "L_W-qr8Z-mbs"
      },
      "outputs": [],
      "source": [
        "spon[:2]"
      ]
    },
    {
      "cell_type": "code",
      "execution_count": null,
      "metadata": {
        "id": "Q-Ns8xe4guzN"
      },
      "outputs": [],
      "source": [
        "spon_temp = spon[['contact_1', 'ai_imp', 'db_imp', 'networks_imp', 'web_imp', 'backend_imp', 'frontend_imp', 'mobile_imp', 'ds_imp', 'testing_imp', 'cloud_imp', 'cicd_imp', 'security_imp']]\n",
        "spon_temp[:2]"
      ]
    },
    {
      "cell_type": "markdown",
      "metadata": {
        "id": "s-w-t34HguzN"
      },
      "source": [
        "#### Map values to numbers"
      ]
    },
    {
      "cell_type": "code",
      "execution_count": null,
      "metadata": {
        "id": "sTUHPM5TguzO"
      },
      "outputs": [],
      "source": [
        "imps = {\n",
        "    'Very important - major project component':1,\n",
        "    'Moderately important - significant project component':.8,\n",
        "    'Slightly important - small project component':.6,\n",
        "    'Not at all important - not applicable to the project':0\n",
        "}"
      ]
    },
    {
      "cell_type": "code",
      "execution_count": null,
      "metadata": {
        "id": "o8b9CDF8guzO"
      },
      "outputs": [],
      "source": [
        "spon_temp = spon_temp.replace(imps)\n",
        "spon_temp = spon_temp.fillna(0)\n",
        "\n",
        "spon_temp[:2]"
      ]
    },
    {
      "cell_type": "markdown",
      "source": [
        "Creating scores for project technical needs."
      ],
      "metadata": {
        "id": "S88rYfXlPK9p"
      }
    },
    {
      "cell_type": "code",
      "execution_count": null,
      "metadata": {
        "id": "gpX4XwN8-mZd"
      },
      "outputs": [],
      "source": [
        "spon_needs = pd.DataFrame()\n",
        "\n",
        "spon_needs['sponsor'] = spon_temp['contact_1']\n",
        "\n",
        "spon_needs[\"web\"] = (spon_temp['web_imp'] + spon_temp['testing_imp'] + spon_temp['cicd_imp']) / 3\n",
        "\n",
        "spon_needs[\"mobile\"] = (spon_temp['mobile_imp'] + spon_temp['testing_imp'] + spon_temp['cicd_imp']) / 3\n",
        "\n",
        "spon_needs[\"backend\"] = (spon_temp['testing_imp'] + spon_temp['cloud_imp'] + spon_temp['cicd_imp'] + spon_temp['security_imp']) / 4\n",
        "\n",
        "spon_needs[\"db\"] = spon_temp['db_imp']\n",
        "\n",
        "spon_needs[\"network\"] = spon_temp['networks_imp']\n",
        "\n",
        "spon_needs[\"ml\"] = spon_temp['ai_imp']\n",
        "\n",
        "spon_needs[\"ds\"] = spon_temp['ds_imp']"
      ]
    },
    {
      "cell_type": "code",
      "execution_count": null,
      "metadata": {
        "id": "X1PBLfs--mXQ"
      },
      "outputs": [],
      "source": [
        "spon_needs"
      ]
    },
    {
      "cell_type": "markdown",
      "metadata": {
        "id": "fNaumNluguzO"
      },
      "source": [
        "## Setting up the multipliers based on interest level"
      ]
    },
    {
      "cell_type": "code",
      "execution_count": null,
      "metadata": {
        "id": "fdq7qKMvguzO"
      },
      "outputs": [],
      "source": [
        "spon_needs['sponsor'].value_counts()"
      ]
    },
    {
      "cell_type": "code",
      "execution_count": null,
      "metadata": {
        "id": "SAKPRbgnguzO"
      },
      "outputs": [],
      "source": [
        "for i in std_priorities.columns:\n",
        "    print(std_priorities[i].value_counts())"
      ]
    },
    {
      "cell_type": "code",
      "execution_count": null,
      "metadata": {
        "id": "_u2unu01guzO"
      },
      "outputs": [],
      "source": [
        "std_priorities[:2]"
      ]
    },
    {
      "cell_type": "markdown",
      "source": [
        "Expand each project to the total number of slots available in that project."
      ],
      "metadata": {
        "id": "QR6WnjIhPN3L"
      }
    },
    {
      "cell_type": "code",
      "execution_count": null,
      "metadata": {
        "id": "Q-7ZylasguzR"
      },
      "outputs": [],
      "source": [
        "prty_pt1 = std_priorities[['priority1', 'priority2', 'priority3', 'priority4', 'priority5', 'priority6', 'priority7']].values.repeat(5,axis=1)\n",
        "prty_pt2 = std_priorities[['priority8', 'priority9', 'priority10', 'priority11']].values.repeat(6,axis=1)\n",
        "prty_pt3 = std_priorities[['priority12', 'priority13', 'priority14']].values.repeat(5,axis=1)\n",
        "\n",
        "prty_np = np.concatenate([prty_pt1,prty_pt2,prty_pt3], axis=1)\n",
        "\n",
        "prty_df = pd.DataFrame(prty_np)"
      ]
    },
    {
      "cell_type": "code",
      "execution_count": null,
      "metadata": {
        "id": "TyYMgW7KguzR"
      },
      "outputs": [],
      "source": [
        "prty_df.shape"
      ]
    },
    {
      "cell_type": "code",
      "execution_count": null,
      "metadata": {
        "id": "fwG9TfecguzS"
      },
      "outputs": [],
      "source": [
        "prty_df[:2]"
      ]
    },
    {
      "cell_type": "code",
      "execution_count": null,
      "metadata": {
        "id": "yJZEDUCyguzS"
      },
      "outputs": [],
      "source": [
        "std_priorities.iloc[:1,1:-1]"
      ]
    },
    {
      "cell_type": "markdown",
      "metadata": {
        "id": "D3Xf9cQNDt50"
      },
      "source": [
        "## Preprocessing for Hungarian Algorithm (if not considering student project interests)"
      ]
    },
    {
      "cell_type": "code",
      "execution_count": null,
      "metadata": {
        "id": "F1j7CG01-mSY"
      },
      "outputs": [],
      "source": [
        "std_interests[:3]"
      ]
    },
    {
      "cell_type": "code",
      "execution_count": null,
      "metadata": {
        "id": "bIL-kBlM-mPa"
      },
      "outputs": [],
      "source": [
        "spon_needs[:3]"
      ]
    },
    {
      "cell_type": "markdown",
      "source": [
        "Extract student interest vectors for hungarian algorithm."
      ],
      "metadata": {
        "id": "Ra1vspt8PSwk"
      }
    },
    {
      "cell_type": "code",
      "execution_count": null,
      "metadata": {
        "id": "scSBJjkz-mMy"
      },
      "outputs": [],
      "source": [
        "std_vec = std_interests.iloc[:, 1:].to_numpy()"
      ]
    },
    {
      "cell_type": "markdown",
      "source": [
        "Extract sponsor needs vectors for hungarian algorithm."
      ],
      "metadata": {
        "id": "a9JpWS4PPVmi"
      }
    },
    {
      "cell_type": "code",
      "execution_count": null,
      "metadata": {
        "id": "QbI4qN31guzS"
      },
      "outputs": [],
      "source": [
        "spon_vec = spon_needs.iloc[:, 1:].to_numpy()"
      ]
    },
    {
      "cell_type": "markdown",
      "source": [
        "Calculate matrix of Euclidean distances between student interest and sponsor needs vectors."
      ],
      "metadata": {
        "id": "_ZkKONfIPZEQ"
      }
    },
    {
      "cell_type": "code",
      "execution_count": null,
      "metadata": {
        "id": "zXi0dgc9guzT"
      },
      "outputs": [],
      "source": [
        "distance_matrix = cdist(std_vec, spon_vec)"
      ]
    },
    {
      "cell_type": "markdown",
      "source": [
        "Store distance matrix into dataframe."
      ],
      "metadata": {
        "id": "YarUz4-xPcKc"
      }
    },
    {
      "cell_type": "code",
      "execution_count": null,
      "metadata": {
        "id": "rodJr0xlguzT"
      },
      "outputs": [],
      "source": [
        "match_scores = pd.DataFrame(distance_matrix, index=std_interests['netid'], columns=spon_needs['sponsor'])\n",
        "match_scores.index.name = None\n",
        "match_scores.columns.name = None\n",
        "match_scores[:3]"
      ]
    },
    {
      "cell_type": "markdown",
      "source": [
        "Export csv for analysis."
      ],
      "metadata": {
        "id": "lUyyN-MNPe8y"
      }
    },
    {
      "cell_type": "code",
      "execution_count": null,
      "metadata": {
        "id": "G3xAahQJguzT"
      },
      "outputs": [],
      "source": [
        "match_scores.to_csv('../02_data/std_proj_distances_0116.csv')"
      ]
    },
    {
      "cell_type": "markdown",
      "source": [
        "### Hungarian (Linear Sum) Algorithm\n",
        "\n",
        "Match students to the optimal project."
      ],
      "metadata": {
        "id": "KDag0BA2dE0q"
      }
    },
    {
      "cell_type": "code",
      "execution_count": null,
      "metadata": {
        "id": "PR_75oiPguzT"
      },
      "outputs": [],
      "source": [
        "row_ind, col_ind = linear_sum_assignment(match_scores)"
      ]
    },
    {
      "cell_type": "code",
      "execution_count": null,
      "metadata": {
        "id": "Piwav5lkguzT"
      },
      "outputs": [],
      "source": [
        "matches = pd.DataFrame()\n",
        "matches['student'] = match_scores.index[row_ind]\n",
        "matches['project'] = match_scores.columns[col_ind]\n",
        "\n",
        "matches.head()"
      ]
    },
    {
      "cell_type": "markdown",
      "source": [
        "Add student and project info to matches for analysis."
      ],
      "metadata": {
        "id": "TLfsa_5IPljm"
      }
    },
    {
      "cell_type": "code",
      "execution_count": null,
      "metadata": {
        "id": "VWtT_wGHguzT"
      },
      "outputs": [],
      "source": [
        "matches_info = pd.merge(matches, std_interests, how='inner', left_on='student', right_on='netid')\n",
        "matches_info = pd.merge(matches_info, std_priorities, how='inner', left_on='netid', right_on='netid')\n",
        "matches_info = pd.merge(matches_info, spon_needs, how='inner', left_on='project', right_on='sponsor')\n",
        "\n",
        "matches_info = matches_info.drop(['netid', 'sponsor'], axis=1)\n",
        "matches_info = matches_info.drop_duplicates().reset_index(drop=True)"
      ]
    },
    {
      "cell_type": "code",
      "execution_count": null,
      "metadata": {
        "id": "75GtK_XCguzT"
      },
      "outputs": [],
      "source": [
        "matches_info[:2]"
      ]
    },
    {
      "cell_type": "code",
      "execution_count": null,
      "metadata": {
        "id": "dH1bIns3guzT"
      },
      "outputs": [],
      "source": [
        "matches_info.to_csv('../02_data/matches_0116_.csv')"
      ]
    },
    {
      "cell_type": "markdown",
      "metadata": {
        "id": "N5SJaK8hguzU"
      },
      "source": [
        "## ALTERNATIVE IF USING PROJECT INTEREST - Hungarian algorithm using multiplier based on project interest"
      ]
    },
    {
      "cell_type": "code",
      "execution_count": null,
      "metadata": {
        "id": "KFoxnO1pguzU"
      },
      "outputs": [],
      "source": [
        "prty_np[:1]"
      ]
    },
    {
      "cell_type": "code",
      "execution_count": null,
      "metadata": {
        "id": "adviQn-4guzU"
      },
      "outputs": [],
      "source": [
        "prty_np = prty_np.astype(float)\n",
        "prty_np[prty_np == 2] = 1.5"
      ]
    },
    {
      "cell_type": "code",
      "execution_count": null,
      "metadata": {
        "id": "RS3YH2R8guzU"
      },
      "outputs": [],
      "source": [
        "prty_np[:1]"
      ]
    },
    {
      "cell_type": "code",
      "execution_count": null,
      "metadata": {
        "id": "4OVM1OHsguzU"
      },
      "outputs": [],
      "source": [
        "std_interests[:3]"
      ]
    },
    {
      "cell_type": "code",
      "execution_count": null,
      "metadata": {
        "id": "jrojz3HnguzU"
      },
      "outputs": [],
      "source": [
        "spon_needs[:3]"
      ]
    },
    {
      "cell_type": "markdown",
      "source": [
        "Extract student interests vectors."
      ],
      "metadata": {
        "id": "pQEGfCHNPsDp"
      }
    },
    {
      "cell_type": "code",
      "execution_count": null,
      "metadata": {
        "id": "9K0NsuYFguzU"
      },
      "outputs": [],
      "source": [
        "std_vec = std_interests.iloc[:, 1:].to_numpy()"
      ]
    },
    {
      "cell_type": "markdown",
      "source": [
        "Extract sponsor needs vectors."
      ],
      "metadata": {
        "id": "vaPwr1A3PuUb"
      }
    },
    {
      "cell_type": "code",
      "execution_count": null,
      "metadata": {
        "id": "uBdj-BwlguzU"
      },
      "outputs": [],
      "source": [
        "spon_vec = spon_needs.iloc[:, 1:].to_numpy()"
      ]
    },
    {
      "cell_type": "markdown",
      "source": [
        "Calculate matrix of Euclidean distances between student interest and sponsor needs vectors."
      ],
      "metadata": {
        "id": "Mkr3X7eKPyha"
      }
    },
    {
      "cell_type": "code",
      "execution_count": null,
      "metadata": {
        "id": "JvvAqFBGguzU"
      },
      "outputs": [],
      "source": [
        "distance_matrix = cdist(std_vec, spon_vec)"
      ]
    },
    {
      "cell_type": "code",
      "execution_count": null,
      "metadata": {
        "id": "kYbn9uSgguzV"
      },
      "outputs": [],
      "source": [
        "distance_matrix[:1]"
      ]
    },
    {
      "cell_type": "markdown",
      "source": [
        "Multiply eucledian distances by project interests."
      ],
      "metadata": {
        "id": "NuTWirvWP00k"
      }
    },
    {
      "cell_type": "code",
      "execution_count": null,
      "metadata": {
        "id": "Q-ZdXpW8guzV"
      },
      "outputs": [],
      "source": [
        "dist_matrix_multiplier = np.multiply(distance_matrix,prty_np)\n",
        "dist_matrix_multiplier[:1]"
      ]
    },
    {
      "cell_type": "markdown",
      "source": [
        "### Hungarian (Linear Sum) Algorithm"
      ],
      "metadata": {
        "id": "a1tAIZu-je5w"
      }
    },
    {
      "cell_type": "code",
      "execution_count": null,
      "metadata": {
        "id": "JwsDaowMguzV"
      },
      "outputs": [],
      "source": [
        "match_scores = pd.DataFrame(dist_matrix_multiplier, index=std_interests['netid'], columns=spon_needs['sponsor'])\n",
        "match_scores.index.name = None\n",
        "match_scores.columns.name = None\n",
        "match_scores[:3]"
      ]
    },
    {
      "cell_type": "markdown",
      "source": [
        "Exporting csv for analysis."
      ],
      "metadata": {
        "id": "kzM4WSCjP3kB"
      }
    },
    {
      "cell_type": "code",
      "execution_count": null,
      "metadata": {
        "id": "H-K3txfqguzV"
      },
      "outputs": [],
      "source": [
        "match_scores.to_csv('../02_data/05_std_proj_distances_1_15_3multiplier_0116.csv')"
      ]
    },
    {
      "cell_type": "code",
      "execution_count": null,
      "metadata": {
        "id": "2O1gyIVIguzV"
      },
      "outputs": [],
      "source": [
        "row_ind, col_ind = linear_sum_assignment(match_scores)"
      ]
    },
    {
      "cell_type": "code",
      "execution_count": null,
      "metadata": {
        "id": "tjTnJyBWguzV"
      },
      "outputs": [],
      "source": [
        "matches = pd.DataFrame()\n",
        "matches['student'] = match_scores.index[row_ind]\n",
        "matches['project'] = match_scores.columns[col_ind]\n",
        "\n",
        "matches.head()"
      ]
    },
    {
      "cell_type": "markdown",
      "source": [
        "Adding project and student names to matches for analysis."
      ],
      "metadata": {
        "id": "13jO-TeJP5xS"
      }
    },
    {
      "cell_type": "code",
      "execution_count": null,
      "metadata": {
        "id": "EKRGEXSqguzV"
      },
      "outputs": [],
      "source": [
        "matches_info = pd.merge(matches, std_interests, how='inner', left_on='student', right_on='netid')\n",
        "matches_info = pd.merge(matches_info, std_priorities, how='inner', left_on='netid', right_on='netid')\n",
        "matches_info = pd.merge(matches_info, spon_needs, how='inner', left_on='project', right_on='sponsor')\n",
        "\n",
        "matches_info = matches_info.drop(['netid', 'sponsor'], axis=1)\n",
        "matches_info = matches_info.drop_duplicates().reset_index(drop=True)"
      ]
    },
    {
      "cell_type": "code",
      "execution_count": null,
      "metadata": {
        "id": "2DuQZchSguzV"
      },
      "outputs": [],
      "source": [
        "matches_info[:2]"
      ]
    },
    {
      "cell_type": "markdown",
      "source": [
        "Extracting final matches csv."
      ],
      "metadata": {
        "id": "Ch-qdU-HP8Lg"
      }
    },
    {
      "cell_type": "code",
      "execution_count": null,
      "metadata": {
        "id": "K0Y-uuwkguzW"
      },
      "outputs": [],
      "source": [
        "matches_info.to_csv('../02_data/05_matches_1_15_3multiplier_0116.csv')"
      ]
    },
    {
      "cell_type": "code",
      "execution_count": null,
      "metadata": {
        "id": "SaG84wyinPQg"
      },
      "outputs": [],
      "source": []
    }
  ],
  "metadata": {
    "colab": {
      "provenance": []
    },
    "kernelspec": {
      "display_name": "Python 3",
      "language": "python",
      "name": "python3"
    },
    "language_info": {
      "codemirror_mode": {
        "name": "ipython",
        "version": 3
      },
      "file_extension": ".py",
      "mimetype": "text/x-python",
      "name": "python",
      "nbconvert_exporter": "python",
      "pygments_lexer": "ipython3",
      "version": "3.9.4"
    }
  },
  "nbformat": 4,
  "nbformat_minor": 0
}